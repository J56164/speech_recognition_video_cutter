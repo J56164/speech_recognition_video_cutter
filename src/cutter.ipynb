{
 "cells": [
  {
   "cell_type": "code",
   "execution_count": 10,
   "metadata": {},
   "outputs": [],
   "source": [
    "from recognizer import Recognizer\n",
    "from pathlib import Path"
   ]
  },
  {
   "cell_type": "code",
   "execution_count": 11,
   "metadata": {},
   "outputs": [],
   "source": [
    "PROJECT_PATH = Path(\"..\")\n",
    "RECORDINGS_PATH = PROJECT_PATH / \"recordings\"\n",
    "RECORDING_FILE_PATH = RECORDINGS_PATH / \"Recording.m4a\""
   ]
  },
  {
   "cell_type": "code",
   "execution_count": 3,
   "metadata": {},
   "outputs": [
    {
     "name": "stderr",
     "output_type": "stream",
     "text": [
      "c:\\Users\\JJ\\Documents\\Files\\JJ_work\\PersonalProgrammingProjects\\Python\\speech_recognition_video_cutter\\env\\lib\\site-packages\\whisper\\__init__.py:150: FutureWarning: You are using `torch.load` with `weights_only=False` (the current default value), which uses the default pickle module implicitly. It is possible to construct malicious pickle data which will execute arbitrary code during unpickling (See https://github.com/pytorch/pytorch/blob/main/SECURITY.md#untrusted-models for more details). In a future release, the default value for `weights_only` will be flipped to `True`. This limits the functions that could be executed during unpickling. Arbitrary objects will no longer be allowed to be loaded via this mode unless they are explicitly allowlisted by the user via `torch.serialization.add_safe_globals`. We recommend you start setting `weights_only=True` for any use case where you don't have full control of the loaded file. Please open an issue on GitHub for any issues related to this experimental feature.\n",
      "  checkpoint = torch.load(fp, map_location=device)\n"
     ]
    },
    {
     "data": {
      "text/plain": [
       "{'text': ' Today I want to talk about the specific space recognition video pattern, which is a practice',\n",
       " 'segments': [{'id': 0,\n",
       "   'seek': 0,\n",
       "   'start': 0.0,\n",
       "   'end': 9.84,\n",
       "   'text': ' Today I want to talk about the specific space recognition video pattern, which is a practice',\n",
       "   'tokens': [50363,\n",
       "    6288,\n",
       "    314,\n",
       "    765,\n",
       "    284,\n",
       "    1561,\n",
       "    546,\n",
       "    262,\n",
       "    2176,\n",
       "    2272,\n",
       "    9465,\n",
       "    2008,\n",
       "    3912,\n",
       "    11,\n",
       "    543,\n",
       "    318,\n",
       "    257,\n",
       "    3357,\n",
       "    50855],\n",
       "   'temperature': 0.0,\n",
       "   'avg_logprob': -0.9292236509777251,\n",
       "   'compression_ratio': 1.1219512195121952,\n",
       "   'no_speech_prob': 0.28270867466926575}],\n",
       " 'language': 'en'}"
      ]
     },
     "execution_count": 3,
     "metadata": {},
     "output_type": "execute_result"
    }
   ],
   "source": [
    "Recognizer().recognize(RECORDING_FILE_PATH)"
   ]
  },
  {
   "cell_type": "code",
   "execution_count": 4,
   "metadata": {},
   "outputs": [
    {
     "name": "stdout",
     "output_type": "stream",
     "text": [
      "Requirement already satisfied: moviepy in c:\\users\\jj\\documents\\files\\jj_work\\personalprogrammingprojects\\python\\speech_recognition_video_cutter\\env\\lib\\site-packages (2.1.1)Note: you may need to restart the kernel to use updated packages.\n",
      "\n",
      "Requirement already satisfied: decorator<6.0,>=4.0.2 in c:\\users\\jj\\documents\\files\\jj_work\\personalprogrammingprojects\\python\\speech_recognition_video_cutter\\env\\lib\\site-packages (from moviepy) (5.1.1)\n",
      "Requirement already satisfied: imageio<3.0,>=2.5 in c:\\users\\jj\\documents\\files\\jj_work\\personalprogrammingprojects\\python\\speech_recognition_video_cutter\\env\\lib\\site-packages (from moviepy) (2.36.1)\n",
      "Requirement already satisfied: imageio_ffmpeg>=0.2.0 in c:\\users\\jj\\documents\\files\\jj_work\\personalprogrammingprojects\\python\\speech_recognition_video_cutter\\env\\lib\\site-packages (from moviepy) (0.5.1)\n",
      "Requirement already satisfied: numpy>=1.25.0 in c:\\users\\jj\\documents\\files\\jj_work\\personalprogrammingprojects\\python\\speech_recognition_video_cutter\\env\\lib\\site-packages (from moviepy) (2.0.2)\n",
      "Requirement already satisfied: proglog<=1.0.0 in c:\\users\\jj\\documents\\files\\jj_work\\personalprogrammingprojects\\python\\speech_recognition_video_cutter\\env\\lib\\site-packages (from moviepy) (0.1.10)\n",
      "Requirement already satisfied: python-dotenv>=0.10 in c:\\users\\jj\\documents\\files\\jj_work\\personalprogrammingprojects\\python\\speech_recognition_video_cutter\\env\\lib\\site-packages (from moviepy) (1.0.1)\n",
      "Requirement already satisfied: pillow<11.0,>=9.2.0 in c:\\users\\jj\\documents\\files\\jj_work\\personalprogrammingprojects\\python\\speech_recognition_video_cutter\\env\\lib\\site-packages (from moviepy) (10.4.0)\n",
      "Requirement already satisfied: setuptools in c:\\users\\jj\\documents\\files\\jj_work\\personalprogrammingprojects\\python\\speech_recognition_video_cutter\\env\\lib\\site-packages (from imageio_ffmpeg>=0.2.0->moviepy) (75.6.0)\n",
      "Requirement already satisfied: tqdm in c:\\users\\jj\\documents\\files\\jj_work\\personalprogrammingprojects\\python\\speech_recognition_video_cutter\\env\\lib\\site-packages (from proglog<=1.0.0->moviepy) (4.67.1)\n",
      "Requirement already satisfied: colorama in c:\\users\\jj\\documents\\files\\jj_work\\personalprogrammingprojects\\python\\speech_recognition_video_cutter\\env\\lib\\site-packages (from tqdm->proglog<=1.0.0->moviepy) (0.4.6)\n"
     ]
    }
   ],
   "source": [
    "%pip install moviepy"
   ]
  },
  {
   "cell_type": "code",
   "execution_count": 7,
   "metadata": {},
   "outputs": [],
   "source": [
    "from moviepy import VideoFileClip"
   ]
  },
  {
   "cell_type": "code",
   "execution_count": 15,
   "metadata": {},
   "outputs": [],
   "source": [
    "VIDEO_FILE_PATH = RECORDINGS_PATH / \"video.mp4\"\n",
    "VIDEO_OUTPUT_FILE_PATH = RECORDINGS_PATH / \"clip.mp4\"\n",
    "AUDIO_OUTPUT_FILE_PATH = RECORDINGS_PATH / \"audio.wav\""
   ]
  },
  {
   "cell_type": "code",
   "execution_count": 16,
   "metadata": {},
   "outputs": [
    {
     "name": "stdout",
     "output_type": "stream",
     "text": [
      "MoviePy - Building video ../recordings/clip.mp4.\n",
      "MoviePy - Writing audio in clipTEMP_MPY_wvf_snd.mp3\n"
     ]
    },
    {
     "name": "stderr",
     "output_type": "stream",
     "text": [
      "                                                       \r"
     ]
    },
    {
     "name": "stdout",
     "output_type": "stream",
     "text": [
      "MoviePy - Done.\n",
      "MoviePy - Writing video ../recordings/clip.mp4\n",
      "\n"
     ]
    },
    {
     "name": "stderr",
     "output_type": "stream",
     "text": [
      "                                                                      \r"
     ]
    },
    {
     "name": "stdout",
     "output_type": "stream",
     "text": [
      "MoviePy - Done !\n",
      "MoviePy - video ready ../recordings/clip.mp4\n"
     ]
    }
   ],
   "source": [
    "video = VideoFileClip(VIDEO_FILE_PATH.as_posix())\n",
    "clip: VideoFileClip = video.subclipped(1, 2)\n",
    "# audio = clip.audio\n",
    "clip.write_videofile(VIDEO_OUTPUT_FILE_PATH.as_posix())\n",
    "# audio.write_audiofile(AUDIO_OUTPUT_FILE_PATH.as_posix())"
   ]
  },
  {
   "cell_type": "code",
   "execution_count": null,
   "metadata": {},
   "outputs": [],
   "source": [
    "# Assume timestamps list is in seconds\n",
    "timestamps = [2.5, 10.0, 20.5]  # Example \"cut\" moments\n",
    "input_video = \"input_video.mp4\"\n",
    "\n",
    "start = 0\n",
    "final_clips = []\n",
    "for i in timestamps:\n",
    "    final_clips.append(VideoFileClip(input_video).subclip(start, i))\n",
    "    start = i + 0.5  # Skip a little after \"cut\"\n",
    "\n",
    "final_video = concatenate_videoclips(final_clips)\n",
    "final_video.write_videofile(\"output_video.mp4\")"
   ]
  }
 ],
 "metadata": {
  "kernelspec": {
   "display_name": "env",
   "language": "python",
   "name": "python3"
  },
  "language_info": {
   "codemirror_mode": {
    "name": "ipython",
    "version": 3
   },
   "file_extension": ".py",
   "mimetype": "text/x-python",
   "name": "python",
   "nbconvert_exporter": "python",
   "pygments_lexer": "ipython3",
   "version": "3.10.16"
  }
 },
 "nbformat": 4,
 "nbformat_minor": 2
}
