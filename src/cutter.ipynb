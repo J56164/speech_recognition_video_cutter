{
 "cells": [
  {
   "cell_type": "code",
   "execution_count": 33,
   "metadata": {},
   "outputs": [],
   "source": [
    "import speech_recognition as sr\n",
    "from pathlib import Path"
   ]
  },
  {
   "cell_type": "code",
   "execution_count": 34,
   "metadata": {},
   "outputs": [],
   "source": [
    "PROJECT_PATH = Path(\"..\")\n",
    "RECORDINGS_PATH = PROJECT_PATH / \"recordings\""
   ]
  },
  {
   "cell_type": "code",
   "execution_count": 35,
   "metadata": {},
   "outputs": [
    {
     "data": {
      "text/plain": [
       "<_io.BufferedRandom name='..\\\\recordings\\\\Recording.wav'>"
      ]
     },
     "execution_count": 35,
     "metadata": {},
     "output_type": "execute_result"
    }
   ],
   "source": [
    "from pydub import AudioSegment\n",
    "\n",
    "audio = AudioSegment.from_file(RECORDINGS_PATH / \"Recording.m4a\")\n",
    "audio.export(RECORDINGS_PATH / \"Recording.wav\", format=\"wav\")"
   ]
  },
  {
   "cell_type": "code",
   "execution_count": 43,
   "metadata": {},
   "outputs": [
    {
     "data": {
      "text/plain": [
       "{'text': \" Today I want to talk about how to make space by connection with your pattern which is a very great problem. Cut. Of course, I'm going to start by doing this. This cut. Okay. Okay.\",\n",
       " 'segments': [{'id': 0,\n",
       "   'seek': 0,\n",
       "   'start': 0.0,\n",
       "   'end': 7.0,\n",
       "   'text': ' Today I want to talk about how to make space by connection with your pattern which is',\n",
       "   'tokens': [50364,\n",
       "    2692,\n",
       "    286,\n",
       "    528,\n",
       "    281,\n",
       "    751,\n",
       "    466,\n",
       "    577,\n",
       "    281,\n",
       "    652,\n",
       "    1901,\n",
       "    538,\n",
       "    4984,\n",
       "    365,\n",
       "    428,\n",
       "    5102,\n",
       "    597,\n",
       "    307,\n",
       "    50714],\n",
       "   'temperature': 0.2,\n",
       "   'avg_logprob': -0.9468297091397372,\n",
       "   'compression_ratio': 1.2720588235294117,\n",
       "   'no_speech_prob': 0.3147342801094055},\n",
       "  {'id': 1,\n",
       "   'seek': 0,\n",
       "   'start': 7.0,\n",
       "   'end': 11.0,\n",
       "   'text': ' a very great problem.',\n",
       "   'tokens': [50714, 257, 588, 869, 1154, 13, 50914],\n",
       "   'temperature': 0.2,\n",
       "   'avg_logprob': -0.9468297091397372,\n",
       "   'compression_ratio': 1.2720588235294117,\n",
       "   'no_speech_prob': 0.3147342801094055},\n",
       "  {'id': 2,\n",
       "   'seek': 0,\n",
       "   'start': 11.0,\n",
       "   'end': 14.0,\n",
       "   'text': ' Cut.',\n",
       "   'tokens': [50914, 9431, 13, 51064],\n",
       "   'temperature': 0.2,\n",
       "   'avg_logprob': -0.9468297091397372,\n",
       "   'compression_ratio': 1.2720588235294117,\n",
       "   'no_speech_prob': 0.3147342801094055},\n",
       "  {'id': 3,\n",
       "   'seek': 0,\n",
       "   'start': 14.0,\n",
       "   'end': 18.0,\n",
       "   'text': \" Of course, I'm going to start by doing this.\",\n",
       "   'tokens': [51064,\n",
       "    2720,\n",
       "    1164,\n",
       "    11,\n",
       "    286,\n",
       "    478,\n",
       "    516,\n",
       "    281,\n",
       "    722,\n",
       "    538,\n",
       "    884,\n",
       "    341,\n",
       "    13,\n",
       "    51264],\n",
       "   'temperature': 0.2,\n",
       "   'avg_logprob': -0.9468297091397372,\n",
       "   'compression_ratio': 1.2720588235294117,\n",
       "   'no_speech_prob': 0.3147342801094055},\n",
       "  {'id': 4,\n",
       "   'seek': 0,\n",
       "   'start': 18.0,\n",
       "   'end': 23.0,\n",
       "   'text': ' This cut.',\n",
       "   'tokens': [51264, 639, 1723, 13, 51514],\n",
       "   'temperature': 0.2,\n",
       "   'avg_logprob': -0.9468297091397372,\n",
       "   'compression_ratio': 1.2720588235294117,\n",
       "   'no_speech_prob': 0.3147342801094055},\n",
       "  {'id': 5,\n",
       "   'seek': 0,\n",
       "   'start': 23.0,\n",
       "   'end': 25.0,\n",
       "   'text': ' Okay.',\n",
       "   'tokens': [51514, 1033, 13, 51614],\n",
       "   'temperature': 0.2,\n",
       "   'avg_logprob': -0.9468297091397372,\n",
       "   'compression_ratio': 1.2720588235294117,\n",
       "   'no_speech_prob': 0.3147342801094055},\n",
       "  {'id': 6,\n",
       "   'seek': 2500,\n",
       "   'start': 25.0,\n",
       "   'end': 28.0,\n",
       "   'text': ' Okay.',\n",
       "   'tokens': [50364, 1033, 13, 50514],\n",
       "   'temperature': 0.0,\n",
       "   'avg_logprob': -0.9020936012268066,\n",
       "   'compression_ratio': 0.38461538461538464,\n",
       "   'no_speech_prob': 0.8888993263244629}],\n",
       " 'language': 'en'}"
      ]
     },
     "execution_count": 43,
     "metadata": {},
     "output_type": "execute_result"
    }
   ],
   "source": [
    "recognizer = sr.Recognizer()\n",
    "with sr.AudioFile((RECORDINGS_PATH / \"Recording.wav\").as_posix()) as source:\n",
    "    audio_data = recognizer.record(source)\n",
    "transcript = recognizer.recognize_whisper(audio_data, show_dict=True)\n",
    "\n",
    "transcript\n",
    "# # Find \"cut\" timestamps (if using Whisper or another library, you may also get timestamps directly)\n",
    "# words = transcript.split()\n",
    "# timestamps = [i for i, word in enumerate(words) if word.lower() == \"cut\"]"
   ]
  },
  {
   "cell_type": "code",
   "execution_count": 37,
   "metadata": {},
   "outputs": [
    {
     "data": {
      "text/plain": [
       "{'text': ' Today I want to work on envision space recognition with you know it happened. which is packed into disk grey. Okay.',\n",
       " 'segments': [{'id': 0,\n",
       "   'seek': 0,\n",
       "   'start': 0.0,\n",
       "   'end': 6.640000000000001,\n",
       "   'text': ' Today I want to work on envision space recognition with you know it happened.',\n",
       "   'tokens': [50364,\n",
       "    2692,\n",
       "    286,\n",
       "    528,\n",
       "    281,\n",
       "    589,\n",
       "    322,\n",
       "    24739,\n",
       "    1901,\n",
       "    11150,\n",
       "    365,\n",
       "    291,\n",
       "    458,\n",
       "    309,\n",
       "    2011,\n",
       "    13,\n",
       "    50696],\n",
       "   'temperature': 1.0,\n",
       "   'avg_logprob': -2.421296571430407,\n",
       "   'compression_ratio': 1.0266666666666666,\n",
       "   'no_speech_prob': 0.3147342801094055},\n",
       "  {'id': 1,\n",
       "   'seek': 664,\n",
       "   'start': 6.64,\n",
       "   'end': 8.9,\n",
       "   'text': ' which is packed into disk grey.',\n",
       "   'tokens': [50364, 597, 307, 13265, 666, 12355, 16578, 13, 50477],\n",
       "   'temperature': 1.0,\n",
       "   'avg_logprob': -3.566476821899414,\n",
       "   'compression_ratio': 0.8222222222222222,\n",
       "   'no_speech_prob': 0.4180915355682373},\n",
       "  {'id': 2,\n",
       "   'seek': 664,\n",
       "   'start': 15.399999999999999,\n",
       "   'end': 17.08,\n",
       "   'text': ' Okay.',\n",
       "   'tokens': [50802, 1033, 13, 50886],\n",
       "   'temperature': 1.0,\n",
       "   'avg_logprob': -3.566476821899414,\n",
       "   'compression_ratio': 0.8222222222222222,\n",
       "   'no_speech_prob': 0.4180915355682373}],\n",
       " 'language': 'en'}"
      ]
     },
     "execution_count": 37,
     "metadata": {},
     "output_type": "execute_result"
    }
   ],
   "source": [
    "transcript"
   ]
  }
 ],
 "metadata": {
  "kernelspec": {
   "display_name": "env",
   "language": "python",
   "name": "python3"
  },
  "language_info": {
   "codemirror_mode": {
    "name": "ipython",
    "version": 3
   },
   "file_extension": ".py",
   "mimetype": "text/x-python",
   "name": "python",
   "nbconvert_exporter": "python",
   "pygments_lexer": "ipython3",
   "version": "3.10.16"
  }
 },
 "nbformat": 4,
 "nbformat_minor": 2
}
