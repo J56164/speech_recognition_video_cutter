{
 "cells": [
  {
   "cell_type": "code",
   "execution_count": 1,
   "metadata": {},
   "outputs": [],
   "source": [
    "from recognizer import Recognizer\n",
    "from pathlib import Path"
   ]
  },
  {
   "cell_type": "code",
   "execution_count": 2,
   "metadata": {},
   "outputs": [],
   "source": [
    "PROJECT_PATH = Path(\"..\")\n",
    "RECORDINGS_PATH = PROJECT_PATH / \"recordings\"\n",
    "RECORDING_FILE_PATH = RECORDINGS_PATH / \"Recording.m4a\""
   ]
  },
  {
   "cell_type": "code",
   "execution_count": 5,
   "metadata": {},
   "outputs": [
    {
     "data": {
      "text/plain": [
       "{'text': ' Today I want to talk about the specific space recognition video pattern, which is a practice',\n",
       " 'segments': [{'id': 0,\n",
       "   'seek': 0,\n",
       "   'start': 0.0,\n",
       "   'end': 9.84,\n",
       "   'text': ' Today I want to talk about the specific space recognition video pattern, which is a practice',\n",
       "   'tokens': [50363,\n",
       "    6288,\n",
       "    314,\n",
       "    765,\n",
       "    284,\n",
       "    1561,\n",
       "    546,\n",
       "    262,\n",
       "    2176,\n",
       "    2272,\n",
       "    9465,\n",
       "    2008,\n",
       "    3912,\n",
       "    11,\n",
       "    543,\n",
       "    318,\n",
       "    257,\n",
       "    3357,\n",
       "    50855],\n",
       "   'temperature': 0.0,\n",
       "   'avg_logprob': -0.9292236509777251,\n",
       "   'compression_ratio': 1.1219512195121952,\n",
       "   'no_speech_prob': 0.28270867466926575}],\n",
       " 'language': 'en'}"
      ]
     },
     "execution_count": 5,
     "metadata": {},
     "output_type": "execute_result"
    }
   ],
   "source": [
    "Recognizer().recognize(RECORDING_FILE_PATH)"
   ]
  },
  {
   "cell_type": "code",
   "execution_count": 7,
   "metadata": {},
   "outputs": [],
   "source": [
    "from moviepy.editor import VideoFileClip"
   ]
  },
  {
   "cell_type": "code",
   "execution_count": 43,
   "metadata": {},
   "outputs": [],
   "source": [
    "VIDEO_FILE_PATH = RECORDINGS_PATH / \"video.mp4\"\n",
    "VIDEO_OUTPUT_FILE_PATH = RECORDINGS_PATH / \"clip.webm\"\n",
    "AUDIO_OUTPUT_FILE_PATH = RECORDINGS_PATH / \"audio.wav\""
   ]
  },
  {
   "cell_type": "code",
   "execution_count": 44,
   "metadata": {},
   "outputs": [
    {
     "ename": "OSError",
     "evalue": "MoviePy error: failed to read the first frame of video file ../recordings/video.mp4. That might mean that the file is corrupted. That may also mean that you are using a deprecated version of FFMPEG. On Ubuntu/Debian for instance the version in the repos is deprecated. Please update to a recent version from the website.",
     "output_type": "error",
     "traceback": [
      "\u001b[1;31m---------------------------------------------------------------------------\u001b[0m",
      "\u001b[1;31mOSError\u001b[0m                                   Traceback (most recent call last)",
      "Cell \u001b[1;32mIn[44], line 1\u001b[0m\n\u001b[1;32m----> 1\u001b[0m video \u001b[38;5;241m=\u001b[39m \u001b[43mVideoFileClip\u001b[49m\u001b[43m(\u001b[49m\u001b[43mVIDEO_FILE_PATH\u001b[49m\u001b[38;5;241;43m.\u001b[39;49m\u001b[43mas_posix\u001b[49m\u001b[43m(\u001b[49m\u001b[43m)\u001b[49m\u001b[43m)\u001b[49m\n\u001b[0;32m      2\u001b[0m clip: VideoFileClip \u001b[38;5;241m=\u001b[39m video\u001b[38;5;241m.\u001b[39msubclip(\u001b[38;5;241m1\u001b[39m, \u001b[38;5;241m2\u001b[39m)\n\u001b[0;32m      3\u001b[0m \u001b[38;5;66;03m# audio = clip.audio\u001b[39;00m\n",
      "File \u001b[1;32mc:\\Users\\JJ\\Documents\\Files\\JJ_work\\PersonalProgrammingProjects\\Python\\speech_recognition_video_cutter\\env\\lib\\site-packages\\moviepy\\video\\io\\VideoFileClip.py:88\u001b[0m, in \u001b[0;36mVideoFileClip.__init__\u001b[1;34m(self, filename, has_mask, audio, audio_buffersize, target_resolution, resize_algorithm, audio_fps, audio_nbytes, verbose, fps_source)\u001b[0m\n\u001b[0;32m     86\u001b[0m \u001b[38;5;66;03m# Make a reader\u001b[39;00m\n\u001b[0;32m     87\u001b[0m pix_fmt \u001b[38;5;241m=\u001b[39m \u001b[38;5;124m\"\u001b[39m\u001b[38;5;124mrgba\u001b[39m\u001b[38;5;124m\"\u001b[39m \u001b[38;5;28;01mif\u001b[39;00m has_mask \u001b[38;5;28;01melse\u001b[39;00m \u001b[38;5;124m\"\u001b[39m\u001b[38;5;124mrgb24\u001b[39m\u001b[38;5;124m\"\u001b[39m\n\u001b[1;32m---> 88\u001b[0m \u001b[38;5;28mself\u001b[39m\u001b[38;5;241m.\u001b[39mreader \u001b[38;5;241m=\u001b[39m \u001b[43mFFMPEG_VideoReader\u001b[49m\u001b[43m(\u001b[49m\u001b[43mfilename\u001b[49m\u001b[43m,\u001b[49m\u001b[43m \u001b[49m\u001b[43mpix_fmt\u001b[49m\u001b[38;5;241;43m=\u001b[39;49m\u001b[43mpix_fmt\u001b[49m\u001b[43m,\u001b[49m\n\u001b[0;32m     89\u001b[0m \u001b[43m                                 \u001b[49m\u001b[43mtarget_resolution\u001b[49m\u001b[38;5;241;43m=\u001b[39;49m\u001b[43mtarget_resolution\u001b[49m\u001b[43m,\u001b[49m\n\u001b[0;32m     90\u001b[0m \u001b[43m                                 \u001b[49m\u001b[43mresize_algo\u001b[49m\u001b[38;5;241;43m=\u001b[39;49m\u001b[43mresize_algorithm\u001b[49m\u001b[43m,\u001b[49m\n\u001b[0;32m     91\u001b[0m \u001b[43m                                 \u001b[49m\u001b[43mfps_source\u001b[49m\u001b[38;5;241;43m=\u001b[39;49m\u001b[43mfps_source\u001b[49m\u001b[43m)\u001b[49m\n\u001b[0;32m     93\u001b[0m \u001b[38;5;66;03m# Make some of the reader's attributes accessible from the clip\u001b[39;00m\n\u001b[0;32m     94\u001b[0m \u001b[38;5;28mself\u001b[39m\u001b[38;5;241m.\u001b[39mduration \u001b[38;5;241m=\u001b[39m \u001b[38;5;28mself\u001b[39m\u001b[38;5;241m.\u001b[39mreader\u001b[38;5;241m.\u001b[39mduration\n",
      "File \u001b[1;32mc:\\Users\\JJ\\Documents\\Files\\JJ_work\\PersonalProgrammingProjects\\Python\\speech_recognition_video_cutter\\env\\lib\\site-packages\\moviepy\\video\\io\\ffmpeg_reader.py:73\u001b[0m, in \u001b[0;36mFFMPEG_VideoReader.__init__\u001b[1;34m(self, filename, print_infos, bufsize, pix_fmt, check_duration, target_resolution, resize_algo, fps_source)\u001b[0m\n\u001b[0;32m     69\u001b[0m \u001b[38;5;28mself\u001b[39m\u001b[38;5;241m.\u001b[39minitialize()\n\u001b[0;32m     72\u001b[0m \u001b[38;5;28mself\u001b[39m\u001b[38;5;241m.\u001b[39mpos \u001b[38;5;241m=\u001b[39m \u001b[38;5;241m1\u001b[39m\n\u001b[1;32m---> 73\u001b[0m \u001b[38;5;28mself\u001b[39m\u001b[38;5;241m.\u001b[39mlastread \u001b[38;5;241m=\u001b[39m \u001b[38;5;28;43mself\u001b[39;49m\u001b[38;5;241;43m.\u001b[39;49m\u001b[43mread_frame\u001b[49m\u001b[43m(\u001b[49m\u001b[43m)\u001b[49m\n",
      "File \u001b[1;32mc:\\Users\\JJ\\Documents\\Files\\JJ_work\\PersonalProgrammingProjects\\Python\\speech_recognition_video_cutter\\env\\lib\\site-packages\\moviepy\\video\\io\\ffmpeg_reader.py:133\u001b[0m, in \u001b[0;36mFFMPEG_VideoReader.read_frame\u001b[1;34m(self)\u001b[0m\n\u001b[0;32m    123\u001b[0m     warnings\u001b[38;5;241m.\u001b[39mwarn(\u001b[38;5;124m\"\u001b[39m\u001b[38;5;124mWarning: in file \u001b[39m\u001b[38;5;132;01m%s\u001b[39;00m\u001b[38;5;124m, \u001b[39m\u001b[38;5;124m\"\u001b[39m\u001b[38;5;241m%\u001b[39m(\u001b[38;5;28mself\u001b[39m\u001b[38;5;241m.\u001b[39mfilename)\u001b[38;5;241m+\u001b[39m\n\u001b[0;32m    124\u001b[0m            \u001b[38;5;124m\"\u001b[39m\u001b[38;5;132;01m%d\u001b[39;00m\u001b[38;5;124m bytes wanted but \u001b[39m\u001b[38;5;132;01m%d\u001b[39;00m\u001b[38;5;124m bytes read,\u001b[39m\u001b[38;5;124m\"\u001b[39m\u001b[38;5;241m%\u001b[39m(nbytes, \u001b[38;5;28mlen\u001b[39m(s))\u001b[38;5;241m+\u001b[39m\n\u001b[0;32m    125\u001b[0m            \u001b[38;5;124m\"\u001b[39m\u001b[38;5;124mat frame \u001b[39m\u001b[38;5;132;01m%d\u001b[39;00m\u001b[38;5;124m/\u001b[39m\u001b[38;5;132;01m%d\u001b[39;00m\u001b[38;5;124m, at time \u001b[39m\u001b[38;5;132;01m%.02f\u001b[39;00m\u001b[38;5;124m/\u001b[39m\u001b[38;5;132;01m%.02f\u001b[39;00m\u001b[38;5;124m sec. \u001b[39m\u001b[38;5;124m\"\u001b[39m\u001b[38;5;241m%\u001b[39m(\n\u001b[1;32m   (...)\u001b[0m\n\u001b[0;32m    129\u001b[0m            \u001b[38;5;124m\"\u001b[39m\u001b[38;5;124mUsing the last valid frame instead.\u001b[39m\u001b[38;5;124m\"\u001b[39m,\n\u001b[0;32m    130\u001b[0m            \u001b[38;5;167;01mUserWarning\u001b[39;00m)\n\u001b[0;32m    132\u001b[0m     \u001b[38;5;28;01mif\u001b[39;00m \u001b[38;5;129;01mnot\u001b[39;00m \u001b[38;5;28mhasattr\u001b[39m(\u001b[38;5;28mself\u001b[39m, \u001b[38;5;124m'\u001b[39m\u001b[38;5;124mlastread\u001b[39m\u001b[38;5;124m'\u001b[39m):\n\u001b[1;32m--> 133\u001b[0m         \u001b[38;5;28;01mraise\u001b[39;00m \u001b[38;5;167;01mIOError\u001b[39;00m((\u001b[38;5;124m\"\u001b[39m\u001b[38;5;124mMoviePy error: failed to read the first frame of \u001b[39m\u001b[38;5;124m\"\u001b[39m\n\u001b[0;32m    134\u001b[0m                        \u001b[38;5;124m\"\u001b[39m\u001b[38;5;124mvideo file \u001b[39m\u001b[38;5;132;01m%s\u001b[39;00m\u001b[38;5;124m. That might mean that the file is \u001b[39m\u001b[38;5;124m\"\u001b[39m\n\u001b[0;32m    135\u001b[0m                        \u001b[38;5;124m\"\u001b[39m\u001b[38;5;124mcorrupted. That may also mean that you are using \u001b[39m\u001b[38;5;124m\"\u001b[39m\n\u001b[0;32m    136\u001b[0m                        \u001b[38;5;124m\"\u001b[39m\u001b[38;5;124ma deprecated version of FFMPEG. On Ubuntu/Debian \u001b[39m\u001b[38;5;124m\"\u001b[39m\n\u001b[0;32m    137\u001b[0m                        \u001b[38;5;124m\"\u001b[39m\u001b[38;5;124mfor instance the version in the repos is deprecated. \u001b[39m\u001b[38;5;124m\"\u001b[39m\n\u001b[0;32m    138\u001b[0m                        \u001b[38;5;124m\"\u001b[39m\u001b[38;5;124mPlease update to a recent version from the website.\u001b[39m\u001b[38;5;124m\"\u001b[39m)\u001b[38;5;241m%\u001b[39m(\n\u001b[0;32m    139\u001b[0m                         \u001b[38;5;28mself\u001b[39m\u001b[38;5;241m.\u001b[39mfilename))\n\u001b[0;32m    141\u001b[0m     result \u001b[38;5;241m=\u001b[39m \u001b[38;5;28mself\u001b[39m\u001b[38;5;241m.\u001b[39mlastread\n\u001b[0;32m    143\u001b[0m \u001b[38;5;28;01melse\u001b[39;00m:\n",
      "\u001b[1;31mOSError\u001b[0m: MoviePy error: failed to read the first frame of video file ../recordings/video.mp4. That might mean that the file is corrupted. That may also mean that you are using a deprecated version of FFMPEG. On Ubuntu/Debian for instance the version in the repos is deprecated. Please update to a recent version from the website."
     ]
    }
   ],
   "source": [
    "video = VideoFileClip(VIDEO_FILE_PATH.as_posix())\n",
    "clip: VideoFileClip = video.subclip(1, 2)\n",
    "# audio = clip.audio\n",
    "clip.write_videofile(VIDEO_OUTPUT_FILE_PATH.as_posix(), threads=5)\n",
    "# audio.write_audiofile(AUDIO_OUTPUT_FILE_PATH.as_posix())"
   ]
  },
  {
   "cell_type": "code",
   "execution_count": null,
   "metadata": {},
   "outputs": [],
   "source": [
    "# Assume timestamps list is in seconds\n",
    "timestamps = [2.5, 10.0, 20.5]  # Example \"cut\" moments\n",
    "input_video = \"input_video.mp4\"\n",
    "\n",
    "start = 0\n",
    "final_clips = []\n",
    "for i in timestamps:\n",
    "    final_clips.append(VideoFileClip(input_video).subclip(start, i))\n",
    "    start = i + 0.5  # Skip a little after \"cut\"\n",
    "\n",
    "final_video = concatenate_videoclips(final_clips)\n",
    "final_video.write_videofile(\"output_video.mp4\")"
   ]
  }
 ],
 "metadata": {
  "kernelspec": {
   "display_name": "env",
   "language": "python",
   "name": "python3"
  },
  "language_info": {
   "codemirror_mode": {
    "name": "ipython",
    "version": 3
   },
   "file_extension": ".py",
   "mimetype": "text/x-python",
   "name": "python",
   "nbconvert_exporter": "python",
   "pygments_lexer": "ipython3",
   "version": "3.10.16"
  }
 },
 "nbformat": 4,
 "nbformat_minor": 2
}
