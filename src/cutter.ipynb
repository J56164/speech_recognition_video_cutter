{
 "cells": [
  {
   "cell_type": "code",
   "execution_count": 4,
   "metadata": {},
   "outputs": [],
   "source": [
    "import speech_recognition as sr\n",
    "from pathlib import Path"
   ]
  },
  {
   "cell_type": "code",
   "execution_count": 5,
   "metadata": {},
   "outputs": [],
   "source": [
    "PROJECT_PATH = Path(\"..\")\n",
    "RECORDINGS_PATH = PROJECT_PATH / \"recordings\""
   ]
  },
  {
   "cell_type": "code",
   "execution_count": 6,
   "metadata": {},
   "outputs": [
    {
     "data": {
      "text/plain": [
       "<_io.BufferedRandom name='..\\\\recordings\\\\Recording.wav'>"
      ]
     },
     "execution_count": 6,
     "metadata": {},
     "output_type": "execute_result"
    }
   ],
   "source": [
    "from pydub import AudioSegment\n",
    "\n",
    "audio = AudioSegment.from_file(RECORDINGS_PATH / \"Recording.m4a\")\n",
    "audio.export(RECORDINGS_PATH / \"Recording.wav\", format=\"wav\")"
   ]
  },
  {
   "cell_type": "code",
   "execution_count": 13,
   "metadata": {},
   "outputs": [
    {
     "data": {
      "text/plain": [
       "{'text': ' Today I want to talk about the specific space recognition video pattern, which is a practice',\n",
       " 'segments': [{'id': 0,\n",
       "   'seek': 0,\n",
       "   'start': 0.0,\n",
       "   'end': 9.84,\n",
       "   'text': ' Today I want to talk about the specific space recognition video pattern, which is a practice',\n",
       "   'tokens': [50363,\n",
       "    6288,\n",
       "    314,\n",
       "    765,\n",
       "    284,\n",
       "    1561,\n",
       "    546,\n",
       "    262,\n",
       "    2176,\n",
       "    2272,\n",
       "    9465,\n",
       "    2008,\n",
       "    3912,\n",
       "    11,\n",
       "    543,\n",
       "    318,\n",
       "    257,\n",
       "    3357,\n",
       "    50855],\n",
       "   'temperature': 0.0,\n",
       "   'avg_logprob': -0.9292236509777251,\n",
       "   'compression_ratio': 1.1219512195121952,\n",
       "   'no_speech_prob': 0.28270867466926575}],\n",
       " 'language': 'en'}"
      ]
     },
     "execution_count": 13,
     "metadata": {},
     "output_type": "execute_result"
    }
   ],
   "source": [
    "recognizer = sr.Recognizer()\n",
    "with sr.AudioFile((RECORDINGS_PATH / \"Recording.wav\").as_posix()) as source:\n",
    "    audio_data = recognizer.record(source)\n",
    "transcript = recognizer.recognize_whisper(audio_data, model=\"base.en\", show_dict=True)\n",
    "\n",
    "transcript\n",
    "# # Find \"cut\" timestamps (if using Whisper or another library, you may also get timestamps directly)\n",
    "# words = transcript.split()\n",
    "# timestamps = [i for i, word in enumerate(words) if word.lower() == \"cut\"]"
   ]
  },
  {
   "cell_type": "code",
   "execution_count": 8,
   "metadata": {},
   "outputs": [
    {
     "data": {
      "text/plain": [
       "{'text': ' Today I want to talk about flat meaning space recommendation video. This is a very good copy cut. Objects requires higher quality waste. and',\n",
       " 'segments': [{'id': 0,\n",
       "   'seek': 0,\n",
       "   'start': 0.64,\n",
       "   'end': 6.46,\n",
       "   'text': ' Today I want to talk about flat meaning space recommendation video.',\n",
       "   'tokens': [50396,\n",
       "    2692,\n",
       "    286,\n",
       "    528,\n",
       "    281,\n",
       "    751,\n",
       "    466,\n",
       "    4962,\n",
       "    3620,\n",
       "    1901,\n",
       "    11879,\n",
       "    960,\n",
       "    13,\n",
       "    50687],\n",
       "   'temperature': 1.0,\n",
       "   'avg_logprob': -3.159667750767299,\n",
       "   'compression_ratio': 1.1929824561403508,\n",
       "   'no_speech_prob': 0.3147342801094055},\n",
       "  {'id': 1,\n",
       "   'seek': 0,\n",
       "   'start': 7.6000000000000005,\n",
       "   'end': 13.5,\n",
       "   'text': ' This is a very good copy cut.',\n",
       "   'tokens': [50744, 639, 307, 257, 588, 665, 5055, 1723, 13, 51039],\n",
       "   'temperature': 1.0,\n",
       "   'avg_logprob': -3.159667750767299,\n",
       "   'compression_ratio': 1.1929824561403508,\n",
       "   'no_speech_prob': 0.3147342801094055},\n",
       "  {'id': 2,\n",
       "   'seek': 0,\n",
       "   'start': 15.08,\n",
       "   'end': 21.18,\n",
       "   'text': ' Objects requires higher quality waste.',\n",
       "   'tokens': [51118, 24753, 82, 7029, 2946, 3125, 5964, 13, 51423],\n",
       "   'temperature': 1.0,\n",
       "   'avg_logprob': -3.159667750767299,\n",
       "   'compression_ratio': 1.1929824561403508,\n",
       "   'no_speech_prob': 0.3147342801094055},\n",
       "  {'id': 3,\n",
       "   'seek': 2118,\n",
       "   'start': 21.18,\n",
       "   'end': 25.82,\n",
       "   'text': ' and',\n",
       "   'tokens': [50364, 293, 50596],\n",
       "   'temperature': 1.0,\n",
       "   'avg_logprob': -3.9271912574768066,\n",
       "   'compression_ratio': 0.2727272727272727,\n",
       "   'no_speech_prob': 0.15190167725086212}],\n",
       " 'language': 'en'}"
      ]
     },
     "execution_count": 8,
     "metadata": {},
     "output_type": "execute_result"
    }
   ],
   "source": [
    "transcript"
   ]
  }
 ],
 "metadata": {
  "kernelspec": {
   "display_name": "env",
   "language": "python",
   "name": "python3"
  },
  "language_info": {
   "codemirror_mode": {
    "name": "ipython",
    "version": 3
   },
   "file_extension": ".py",
   "mimetype": "text/x-python",
   "name": "python",
   "nbconvert_exporter": "python",
   "pygments_lexer": "ipython3",
   "version": "3.10.16"
  }
 },
 "nbformat": 4,
 "nbformat_minor": 2
}
